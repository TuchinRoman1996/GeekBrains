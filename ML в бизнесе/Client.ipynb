{
 "cells": [
  {
   "cell_type": "code",
   "execution_count": null,
   "id": "3023fd9e",
   "metadata": {},
   "outputs": [],
   "source": [
    "import requests\n",
    "\n",
    "import urllib.request\n",
    "import json"
   ]
  },
  {
   "cell_type": "code",
   "execution_count": 17,
   "id": "366527b0",
   "metadata": {},
   "outputs": [],
   "source": [
    "data = (\n",
    "    \"Hostage deal between Israel and Hamas appears elusive as negotiations continue\",\n",
    "    '''International Rescue Committee President David Miliband on Wednesday called for a humanitarian ceasefire in Gaza for \"a period of at least five days,\" emphasizing that's the \"absolute minimum\" timeframe needed to allow aid agencies to relieve some of the humanitarian suffering.\n",
    "    \"It's beyond urgent to get this humanitarian ceasefire so that our teams can do the work and the partners that we have on the ground inside Gaza can do their work. Because many, many are dead already, but many, many more are going to lose their lives soon,\" Miliband said in an interview with CNN's Christiane Amanpour.\n",
    "    Miliband oversees the IRC's humanitarian relief operations in more than 40 war-affected countries, according to the aid organization.\n",
    "    On Wednesday, he said that any coordinated halt in the fighting in Gaza \"needs to have sufficient duration if it's really to relieve the humanitarian suffering and save lives,\" adding that it is \"desperately beyond time for the world community to get serious about what a humanitarian halt in the fighting\" or a ceasefire or pause looks like in practice.\n",
    "    \"The words matter much less to us as a humanitarian agency than the substance of the action that takes place,\" Miliband said.\n",
    "    \"There needs to be a flow of aid — at the moment, it's a trickle of aid,\" Miliband told CNN. \"There needs to be a massive scale-up of the aid flows — that's medicines, that's non-food items, that is food, that is water, the basics of life and the fuel to get those goods around the Gaza Strip.\"\n",
    "    \"Second, you can't deliver aid without aid workers,\" he added, noting that it's not safe for aid workers on the ground at the moment and scores of aid workers have died. \"Thirdly — essential — we've got to be able to have safety for civilians who come to receive aid when they bring their kids when they bring their wounded, they've got to be able to be safe in a health center.\"\n",
    "    Miliband also said it's vital that injured people who require medical treatment are able to evacuate. \n",
    "    \"Our teams on the ground are saying that [...] we're on the verge of something much, much worse. Because the threat of communicable diseases, the threat of cholera, the threat of measles and typhoid, this is there,\" he added, reiterating the IRC's position that there is an urgent need for a ceasefire of at least five days. \"We're saying that the imperative of relieving the suffering in Gaza now is absolutely core to the humanitarian mission.\"\n",
    "    In a social media post on Wednesday, Israeli Prime Minister Benjamin Netanyahu reiterated \"there will not be a ceasefire without the release of our hostages.'''\n",
    ")"
   ]
  },
  {
   "cell_type": "code",
   "execution_count": 18,
   "id": "0a393be3",
   "metadata": {},
   "outputs": [],
   "source": [
    "def send_json(x):\n",
    "    title, text = x\n",
    "    body = {\n",
    "        'title': title,\n",
    "        'text': text\n",
    "    }\n",
    "\n",
    "    myurl = 'http://127.0.0.1:5000/' + '/predict'\n",
    "    headers = {'content-type': 'application/json; charset=utf-8'}\n",
    "    response = requests.post(myurl, json=body, headers=headers)\n",
    "    return response.json()['predictions']"
   ]
  },
  {
   "cell_type": "code",
   "execution_count": 19,
   "id": "d009bf6b",
   "metadata": {},
   "outputs": [
    {
     "name": "stdout",
     "output_type": "stream",
     "text": [
      "предсказание 0.9279524521978463\n"
     ]
    }
   ],
   "source": [
    "response = send_json(data)\n",
    "print('предсказание', response)"
   ]
  }
 ],
 "metadata": {
  "kernelspec": {
   "display_name": "Python 3 (ipykernel)",
   "language": "python",
   "name": "python3"
  },
  "language_info": {
   "codemirror_mode": {
    "name": "ipython",
    "version": 3
   },
   "file_extension": ".py",
   "mimetype": "text/x-python",
   "name": "python",
   "nbconvert_exporter": "python",
   "pygments_lexer": "ipython3",
   "version": "3.9.13"
  }
 },
 "nbformat": 4,
 "nbformat_minor": 5
}
